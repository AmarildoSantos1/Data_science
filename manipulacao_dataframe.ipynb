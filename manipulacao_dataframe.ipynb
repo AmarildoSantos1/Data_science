{
 "cells": [
  {
   "cell_type": "code",
   "execution_count": 1,
   "id": "6c954945",
   "metadata": {},
   "outputs": [],
   "source": [
    "import pandas as pd"
   ]
  },
  {
   "cell_type": "code",
   "execution_count": 2,
   "id": "c928cfab",
   "metadata": {},
   "outputs": [],
   "source": [
    "#Leitura do arquivo CSV\n",
    "df = pd.read_csv('./spotify_top_1000_tracks.csv')"
   ]
  },
  {
   "cell_type": "markdown",
   "metadata": {},
   "source": [
    "###  Renomeie as colunas do DataFrame, deixando todas padronizadas em português, com nomes sugestivos para o conteúdo da coluna."
   ]
  },
  {
   "cell_type": "code",
   "execution_count": 3,
   "id": "66f3ca1a",
   "metadata": {},
   "outputs": [],
   "source": [
    "# Renomeie as colunas do DataFrame, deixando todas padronizadas em português, com nomes sugestivos para o conteúdo da coluna.\n",
    "\n",
    "df = df.rename(columns={'track_name': 'Nome_Da_Faixa', 'artist': 'Artista', 'album':'Álbum', \n",
    "                        'release_date':'Data_De_Lançamento', 'popularity':'Popularidade', 'spotify_url':'Spotify_URL',\n",
    "                        'id':'ID', 'duration_min':'Duração_Mínima'})"
   ]
  },
  {
   "cell_type": "markdown",
   "metadata": {},
   "source": [
    "### Crie dois DataFrames, com amostras aleatórias de 100 registros cada, a partir do DataFrame original."
   ]
  },
  {
   "cell_type": "code",
   "execution_count": 4,
   "id": "8bb2df2d",
   "metadata": {},
   "outputs": [],
   "source": [
    "# Crie dois DataFrames, com amostras aleatórias de 100 registros cada, a partir do DataFrame original.\n",
    "\n",
    "df_amostra1 = df.sample(n=100, random_state=1)\n",
    "\n",
    "df_amostra2 = df.sample(n=100, random_state=2)\n",
    "\n",
    "# n = indica a quantidade de linhas que desejamos\n",
    "# random_state = é um gerador de números aleatórios\n",
    "\n",
    "# Como ja foi verificados algumas vezes que não existe valores nulos, vamos seguir em frente\n",
    "# Usando um DataFrame auxiliar, remova uma coluna caso todos os valores sejam nulos.\n",
    "# Caso apenas parte dos valores sejam nulos, substitua-os por string vazia em colunas do tipo string ou zero para colunas de tipo numérico."
   ]
  },
  {
   "cell_type": "markdown",
   "metadata": {},
   "source": [
    "### Crie pelo menos um agrupamento para uma coluna para o DataFrame original."
   ]
  },
  {
   "cell_type": "code",
   "execution_count": 5,
   "id": "d1480892",
   "metadata": {},
   "outputs": [],
   "source": [
    "# Crie pelo menos um agrupamento para uma coluna para o DataFrame original.\n",
    "\n",
    "artista_popularidade = df.groupby(['Artista', 'Popularidade']).size().reset_index(name='Ordem').sort_values('Popularidade', ascending=False)\n",
    "\n",
    "#size() = numero de ocorrencias no grupo\n",
    "#sort_values = ordenar do mais popular para o menos"
   ]
  },
  {
   "cell_type": "markdown",
   "metadata": {},
   "source": [
    "### Impressao do Agrupamento de Artistas e Popularidade"
   ]
  },
  {
   "cell_type": "code",
   "execution_count": 6,
   "id": "ac142948",
   "metadata": {},
   "outputs": [
    {
     "name": "stdout",
     "output_type": "stream",
     "text": [
      "            Artista  Popularidade  Ordem\n",
      "357   Gracie Abrams            97      1\n",
      "667            ROSÉ            96      1\n",
      "471  Kendrick Lamar            95      1\n",
      "842      The Weeknd            93      1\n",
      "72   Arctic Monkeys            93      1\n"
     ]
    }
   ],
   "source": [
    "# Impressao do Agrupamento de Artistas e Popularidade\n",
    "\n",
    "print(artista_popularidade.head())"
   ]
  },
  {
   "cell_type": "markdown",
   "metadata": {},
   "source": [
    "### Crie um filtro para o DataFrame original em uma coluna que o grupo ache pertinente"
   ]
  },
  {
   "cell_type": "code",
   "execution_count": 7,
   "id": "b12f0aec",
   "metadata": {},
   "outputs": [
    {
     "name": "stdout",
     "output_type": "stream",
     "text": [
      "                   Nome_Da_Faixa                    Artista  Popularidade\n",
      "0       All The Stars (with SZA)             Kendrick Lamar            95\n",
      "1                        Starboy                 The Weeknd            90\n",
      "3                     Heat Waves              Glass Animals            87\n",
      "4                Let Me Love You                   DJ Snake            87\n",
      "8                           Baby              Justin Bieber            84\n",
      "..                           ...                        ...           ...\n",
      "813       Thank You (Not So Bad)  Dimitri Vegas & Like Mike            85\n",
      "815           I Don't Wanna Wait               David Guetta            85\n",
      "819                 Stumblin' In                      CYRIL            86\n",
      "821     MONTAGEM TOMADA - Slowed                       MXZI            81\n",
      "822  I Adore You (feat. Daecolm)                      HUGEL            87\n",
      "\n",
      "[201 rows x 3 columns]\n"
     ]
    }
   ],
   "source": [
    "# Crie um filtro para o DataFrame original em uma coluna que o grupo ache pertinente\n",
    "\n",
    "filtro_popularidade = df[df['Popularidade'] > 80][['Nome_Da_Faixa', 'Artista', 'Popularidade']]\n",
    "\n",
    "print(filtro_popularidade)"
   ]
  }
 ],
 "metadata": {
  "kernelspec": {
   "display_name": "Python 3",
   "language": "python",
   "name": "python3"
  },
  "language_info": {
   "codemirror_mode": {
    "name": "ipython",
    "version": 3
   },
   "file_extension": ".py",
   "mimetype": "text/x-python",
   "name": "python",
   "nbconvert_exporter": "python",
   "pygments_lexer": "ipython3",
   "version": "3.11.0"
  }
 },
 "nbformat": 4,
 "nbformat_minor": 5
}
