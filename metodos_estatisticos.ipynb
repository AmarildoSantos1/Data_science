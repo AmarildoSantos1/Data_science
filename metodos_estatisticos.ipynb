{
 "cells": [
  {
   "cell_type": "code",
   "execution_count": 2,
   "id": "fa458290",
   "metadata": {},
   "outputs": [],
   "source": [
    "import pandas as pd"
   ]
  },
  {
   "cell_type": "code",
   "execution_count": 4,
   "id": "10f5be50",
   "metadata": {},
   "outputs": [],
   "source": [
    "#Leitura do arquivo CSV\n",
    "df = pd.read_csv('./spotify_top_1000_tracks.csv')"
   ]
  },
  {
   "cell_type": "markdown",
   "id": "559bab6c",
   "metadata": {},
   "source": [
    "### Renomeie as colunas do DataFrame, deixando todas padronizadas em português, com nomes sugestivos para o conteúdo da coluna."
   ]
  },
  {
   "cell_type": "code",
   "execution_count": 5,
   "id": "a1a6c534",
   "metadata": {},
   "outputs": [],
   "source": [
    "# Renomeie as colunas do DataFrame, deixando todas padronizadas em português, com nomes sugestivos para o conteúdo da coluna.\n",
    "\n",
    "df = df.rename(columns={'track_name': 'Nome_Da_Faixa', 'artist': 'Artista', 'album':'Álbum', \n",
    "                        'release_date':'Data_De_Lançamento', 'popularity':'Popularidade', 'spotify_url':'Spotify_URL',\n",
    "                        'id':'ID', 'duration_min':'Duração_Mínima'})"
   ]
  },
  {
   "cell_type": "code",
   "execution_count": 6,
   "id": "9945835c",
   "metadata": {},
   "outputs": [
    {
     "data": {
      "text/plain": [
       "0      Kendrick Lamar\n",
       "1          The Weeknd\n",
       "2        Shawn Mendes\n",
       "3       Glass Animals\n",
       "4            DJ Snake\n",
       "            ...      \n",
       "995             ISAEV\n",
       "996         Besomorph\n",
       "997      Yohan Gerber\n",
       "998         Arc North\n",
       "999          Besomage\n",
       "Name: Artista, Length: 1000, dtype: object"
      ]
     },
     "execution_count": 6,
     "metadata": {},
     "output_type": "execute_result"
    }
   ],
   "source": [
    "# Nomes dos Artistas são identificadores , não possuem Hierarquia \n",
    "df['Artista']"
   ]
  },
  {
   "cell_type": "markdown",
   "id": "760c1c54",
   "metadata": {},
   "source": [
    "### Dado Quanlitativo Ordinal"
   ]
  },
  {
   "cell_type": "code",
   "execution_count": null,
   "id": "cd04d987",
   "metadata": {},
   "outputs": [
    {
     "name": "stdout",
     "output_type": "stream",
     "text": [
      "              Nome_Da_Faixa  Popularidade Nível_De_Popularidade\n",
      "0  All The Stars (with SZA)            95                  Alta\n",
      "1                   Starboy            90                  Alta\n",
      "2                  Señorita            80                  Alta\n",
      "3                Heat Waves            87                  Alta\n",
      "4           Let Me Love You            87                  Alta\n"
     ]
    }
   ],
   "source": [
    "\n",
    "### Dado Ordinal\n",
    "# Cria uma coluna categórica ordinal baseada na Popularidade\n",
    "# Popularidade entre 0-39: Baixa, 40-69: Média, 70-100: Alta\n",
    "\n",
    "def classificar_popularidade(valor):\n",
    "    if valor < 40:\n",
    "        return 'Baixa'\n",
    "    elif valor < 70:\n",
    "        return 'Média'\n",
    "    else:\n",
    "        return 'Alta'\n",
    "\n",
    "df['Nível_De_Popularidade'] = df['Popularidade'].apply(classificar_popularidade)\n",
    "\n",
    "# Exibe os primeiros registros com o dado ordinal\n",
    "print(df[['Nome_Da_Faixa', 'Popularidade', 'Nível_De_Popularidade']].head())\n",
    "\n"
   ]
  },
  {
   "cell_type": "markdown",
   "id": "a4805d94",
   "metadata": {},
   "source": [
    "### Dado quantitativo Discreto\n"
   ]
  },
  {
   "cell_type": "code",
   "execution_count": null,
   "id": "cc434849",
   "metadata": {},
   "outputs": [
    {
     "data": {
      "text/plain": [
       "0      95\n",
       "1      90\n",
       "2      80\n",
       "3      87\n",
       "4      87\n",
       "       ..\n",
       "995     0\n",
       "996     5\n",
       "997     0\n",
       "998     1\n",
       "999     0\n",
       "Name: Popularidade, Length: 1000, dtype: int64"
      ]
     },
     "execution_count": 7,
     "metadata": {},
     "output_type": "execute_result"
    }
   ],
   "source": [
    "# Popularidade Discreta , no Spotify o numero inteiro entre 0 e 100 , não se assume valores Fracionários.\n",
    "df ['Popularidade']"
   ]
  },
  {
   "cell_type": "markdown",
   "id": "5efde683",
   "metadata": {},
   "source": [
    "### Dado Quantitativo Contínuo"
   ]
  },
  {
   "cell_type": "code",
   "execution_count": 8,
   "id": "0598c96e",
   "metadata": {},
   "outputs": [
    {
     "data": {
      "text/plain": [
       "0      3.869767\n",
       "1      3.840883\n",
       "2      3.182667\n",
       "3      3.980083\n",
       "4      3.432433\n",
       "         ...   \n",
       "995    2.572100\n",
       "996    2.443350\n",
       "997    2.376000\n",
       "998    2.391667\n",
       "999    2.295650\n",
       "Name: Duração_Mínima, Length: 1000, dtype: float64"
      ]
     },
     "execution_count": 8,
     "metadata": {},
     "output_type": "execute_result"
    }
   ],
   "source": [
    "# Duração de faixas é medida em minutos, com valores decimais , como 3.45 ou 4.12 minutos.\n",
    "df['Duração_Mínima']"
   ]
  },
  {
   "cell_type": "markdown",
   "id": "5a4d608a",
   "metadata": {},
   "source": [
    "### Identificar Tabelas Numéricas"
   ]
  },
  {
   "cell_type": "code",
   "execution_count": 9,
   "id": "15bec485",
   "metadata": {},
   "outputs": [],
   "source": [
    "# Seleciona automaticamente todas as colunas numéricas,como popularidade e duração mínima \n",
    "\n",
    "numericas = df.select_dtypes(include=['int64','float64'])"
   ]
  },
  {
   "cell_type": "markdown",
   "id": "ced25579",
   "metadata": {},
   "source": [
    "### Calcular as medidas de tendência central"
   ]
  },
  {
   "cell_type": "code",
   "execution_count": 10,
   "id": "b77dc888",
   "metadata": {},
   "outputs": [
    {
     "name": "stdout",
     "output_type": "stream",
     "text": [
      "Média:\n",
      " Popularidade      56.669000\n",
      "Duração_Mínima     3.318516\n",
      "dtype: float64\n",
      "\n",
      "Mediana:\n",
      " Popularidade      68.000000\n",
      "Duração_Mínima     3.293833\n",
      "dtype: float64\n",
      "\n",
      "Moda:\n",
      " Popularidade      0.0\n",
      "Duração_Mínima    2.5\n",
      "Name: 0, dtype: float64\n"
     ]
    }
   ],
   "source": [
    "# Média\n",
    "media= numericas.mean()\n",
    "print(\"Média:\\n\", media)\n",
    "\n",
    "# Mediana \n",
    "\n",
    "mediana=numericas.median()\n",
    "print(\"\\nMediana:\\n\", mediana)\n",
    "\n",
    "# Moda\n",
    "\n",
    "moda = numericas.mode().iloc[0]\n",
    "print(\"\\nModa:\\n\", moda)"
   ]
  }
 ],
 "metadata": {
  "kernelspec": {
   "display_name": "Python 3",
   "language": "python",
   "name": "python3"
  },
  "language_info": {
   "codemirror_mode": {
    "name": "ipython",
    "version": 3
   },
   "file_extension": ".py",
   "mimetype": "text/x-python",
   "name": "python",
   "nbconvert_exporter": "python",
   "pygments_lexer": "ipython3",
   "version": "3.11.0"
  }
 },
 "nbformat": 4,
 "nbformat_minor": 5
}
