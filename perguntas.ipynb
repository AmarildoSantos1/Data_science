{
 "cells": [
  {
   "cell_type": "code",
   "execution_count": 3,
   "id": "13f2ddc2",
   "metadata": {},
   "outputs": [],
   "source": [
    "import pandas as pd"
   ]
  },
  {
   "cell_type": "code",
   "execution_count": 4,
   "id": "fb1dd37d",
   "metadata": {},
   "outputs": [],
   "source": [
    "#Leitura do arquivo CSV\n",
    "df = pd.read_csv('./spotify_top_1000_tracks.csv')"
   ]
  },
  {
   "cell_type": "markdown",
   "metadata": {},
   "source": [
    "### Renomeie as colunas do DataFrame, deixando todas padronizadas em português, com nomes sugestivos para o conteúdo da coluna."
   ]
  },
  {
   "cell_type": "code",
   "execution_count": 5,
   "id": "a0549cd7",
   "metadata": {},
   "outputs": [],
   "source": [
    "# Renomeie as colunas do DataFrame, deixando todas padronizadas em português, com nomes sugestivos para o conteúdo da coluna.\n",
    "\n",
    "df = df.rename(columns={'track_name': 'Nome_Da_Faixa', 'artist': 'Artista', 'album':'Álbum', \n",
    "                        'release_date':'Data_De_Lançamento', 'popularity':'Popularidade', 'spotify_url':'Spotify_URL',\n",
    "                        'id':'ID', 'duration_min':'Duração_Mínima'})"
   ]
  },
  {
   "cell_type": "markdown",
   "metadata": {},
   "source": [
    "### Mostre as 10 menores Musicas"
   ]
  },
  {
   "cell_type": "code",
   "execution_count": 6,
   "id": "05731134",
   "metadata": {},
   "outputs": [
    {
     "name": "stdout",
     "output_type": "stream",
     "text": [
      "                         Nome_Da_Faixa  Duração_Mínima\n",
      "227                            Bezos I        0.969150\n",
      "221                        SugarCrash!        1.334667\n",
      "821           MONTAGEM TOMADA - Slowed        1.415017\n",
      "728                               nuts        1.422667\n",
      "832                     FERRARI FRIGHT        1.426583\n",
      "892                              Fairy        1.451850\n",
      "691                       SUICIDE YEAR        1.528850\n",
      "734                            Formula        1.531150\n",
      "909                        Kandy Krush        1.580717\n",
      "406  Jiggle Jiggle (with Duke & Jones)        1.620133\n"
     ]
    }
   ],
   "source": [
    "# Pergunta Membro: Amarildo\n",
    "# Utilizando um filtro, mostre as 10 menores musicas.\n",
    "\n",
    "musica_minima = df[df['Duração_Mínima'] < 2][['Nome_Da_Faixa', 'Duração_Mínima']].sort_values('Duração_Mínima', ascending=True)\n",
    "print(musica_minima.head(10))"
   ]
  },
  {
   "cell_type": "markdown",
   "metadata": {},
   "source": [
    "### Qual é a música com a maior popularidade e qual é sua duração?"
   ]
  },
  {
   "cell_type": "code",
   "execution_count": 7,
   "id": "1b31e018",
   "metadata": {},
   "outputs": [
    {
     "data": {
      "text/plain": [
       "Nome_Da_Faixa     That’s So True\n",
       "Duração_Mínima          2.771667\n",
       "Name: 611, dtype: object"
      ]
     },
     "execution_count": 7,
     "metadata": {},
     "output_type": "execute_result"
    }
   ],
   "source": [
    "# Pergunta Membro: Pedro\n",
    "# Qual é a música com a maior popularidade e qual é sua duração?\n",
    " \n",
    "df.loc[df['Popularidade'].idxmax(), ['Nome_Da_Faixa', 'Duração_Mínima']]"
   ]
  },
  {
   "cell_type": "markdown",
   "metadata": {},
   "source": [
    "### Utilizando o Min & Max, faça um filtro."
   ]
  },
  {
   "cell_type": "code",
   "execution_count": 8,
   "id": "23ea1e29",
   "metadata": {},
   "outputs": [
    {
     "name": "stdout",
     "output_type": "stream",
     "text": [
      "Popularidade mínima: 0\n",
      "Popularidade máxima: 97\n"
     ]
    }
   ],
   "source": [
    "# Pergunta Membro: Gibran\n",
    "# Utilizando o Min & Max, faça um filtro.\n",
    "\n",
    "print(\"Popularidade mínima:\", df['Popularidade'].min())\n",
    "print(\"Popularidade máxima:\", df['Popularidade'].max())"
   ]
  },
  {
   "cell_type": "markdown",
   "metadata": {},
   "source": [
    "### Mostre a musica mais longa do database."
   ]
  },
  {
   "cell_type": "code",
   "execution_count": 9,
   "id": "4c6819ba",
   "metadata": {},
   "outputs": [
    {
     "name": "stdout",
     "output_type": "stream",
     "text": [
      "    Nome_Da_Faixa Artista  Duração_Mínima\n",
      "710      Lost Boy   Jaden        9.497883\n"
     ]
    }
   ],
   "source": [
    "# Pergunta Membro: Vinicius\n",
    "# Mostre a musica mais longa do database.\n",
    "\n",
    "musica_mais_longa = df[df['Duração_Mínima'] == df['Duração_Mínima'].max()]\n",
    "print(musica_mais_longa[['Nome_Da_Faixa', 'Artista', 'Duração_Mínima']])"
   ]
  },
  {
   "cell_type": "markdown",
   "metadata": {},
   "source": [
    "### Artista mais frequente e qual sua média de popularidade?\n"
   ]
  },
  {
   "cell_type": "code",
   "execution_count": 10,
   "id": "17de38b4",
   "metadata": {},
   "outputs": [
    {
     "name": "stdout",
     "output_type": "stream",
     "text": [
      "Artista mais recorrente: The Weeknd\n",
      "Média de popularidade desse Artista: 75.54\n"
     ]
    }
   ],
   "source": [
    "# Pergunta Membro: Guilhermando\n",
    "# Artista mais frequente e qual sua média de popularidade?\n",
    "\n",
    "melhor_artista = df['Artista'].value_counts().idxmax()\n",
    "\n",
    "media_popularidade = df[df['Artista'] == melhor_artista]['Popularidade'].mean()\n",
    "\n",
    "print(f\"Artista mais recorrente: {melhor_artista}\")\n",
    "\n",
    "print(f\"Média de popularidade desse Artista: {media_popularidade:.2f}\")\n"
   ]
  }
 ],
 "metadata": {
  "kernelspec": {
   "display_name": "Python 3",
   "language": "python",
   "name": "python3"
  },
  "language_info": {
   "codemirror_mode": {
    "name": "ipython",
    "version": 3
   },
   "file_extension": ".py",
   "mimetype": "text/x-python",
   "name": "python",
   "nbconvert_exporter": "python",
   "pygments_lexer": "ipython3",
   "version": "3.11.0"
  }
 },
 "nbformat": 4,
 "nbformat_minor": 5
}
