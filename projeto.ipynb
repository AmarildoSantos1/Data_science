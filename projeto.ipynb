{
 "cells": [
  {
   "cell_type": "code",
   "execution_count": 2,
   "id": "afc17d4b",
   "metadata": {},
   "outputs": [],
   "source": [
    "import pandas as pd"
   ]
  },
  {
   "cell_type": "code",
   "execution_count": 3,
   "id": "975672ae",
   "metadata": {},
   "outputs": [],
   "source": [
    "#Leitura do arquivo CSV\n",
    "df = pd.read_csv('./spotify_top_1000_tracks.csv')\n"
   ]
  },
  {
   "cell_type": "code",
   "execution_count": 4,
   "id": "e2bd4734",
   "metadata": {},
   "outputs": [
    {
     "data": {
      "text/html": [
       "<div>\n",
       "<style scoped>\n",
       "    .dataframe tbody tr th:only-of-type {\n",
       "        vertical-align: middle;\n",
       "    }\n",
       "\n",
       "    .dataframe tbody tr th {\n",
       "        vertical-align: top;\n",
       "    }\n",
       "\n",
       "    .dataframe thead th {\n",
       "        text-align: right;\n",
       "    }\n",
       "</style>\n",
       "<table border=\"1\" class=\"dataframe\">\n",
       "  <thead>\n",
       "    <tr style=\"text-align: right;\">\n",
       "      <th></th>\n",
       "      <th>track_name</th>\n",
       "      <th>artist</th>\n",
       "      <th>album</th>\n",
       "      <th>release_date</th>\n",
       "      <th>popularity</th>\n",
       "      <th>spotify_url</th>\n",
       "      <th>id</th>\n",
       "      <th>duration_min</th>\n",
       "    </tr>\n",
       "  </thead>\n",
       "  <tbody>\n",
       "    <tr>\n",
       "      <th>0</th>\n",
       "      <td>All The Stars (with SZA)</td>\n",
       "      <td>Kendrick Lamar</td>\n",
       "      <td>Black Panther The Album Music From And Inspire...</td>\n",
       "      <td>2018-02-09</td>\n",
       "      <td>95</td>\n",
       "      <td>https://open.spotify.com/track/3GCdLUSnKSMJhs4...</td>\n",
       "      <td>3GCdLUSnKSMJhs4Tj6CV3s</td>\n",
       "      <td>3.869767</td>\n",
       "    </tr>\n",
       "    <tr>\n",
       "      <th>1</th>\n",
       "      <td>Starboy</td>\n",
       "      <td>The Weeknd</td>\n",
       "      <td>Starboy</td>\n",
       "      <td>2016-11-25</td>\n",
       "      <td>90</td>\n",
       "      <td>https://open.spotify.com/track/7MXVkk9YMctZqd1...</td>\n",
       "      <td>7MXVkk9YMctZqd1Srtv4MB</td>\n",
       "      <td>3.840883</td>\n",
       "    </tr>\n",
       "    <tr>\n",
       "      <th>2</th>\n",
       "      <td>Señorita</td>\n",
       "      <td>Shawn Mendes</td>\n",
       "      <td>Señorita</td>\n",
       "      <td>2019-06-21</td>\n",
       "      <td>80</td>\n",
       "      <td>https://open.spotify.com/track/0TK2YIli7K1leLo...</td>\n",
       "      <td>0TK2YIli7K1leLovkQiNik</td>\n",
       "      <td>3.182667</td>\n",
       "    </tr>\n",
       "    <tr>\n",
       "      <th>3</th>\n",
       "      <td>Heat Waves</td>\n",
       "      <td>Glass Animals</td>\n",
       "      <td>Dreamland</td>\n",
       "      <td>2020-08-07</td>\n",
       "      <td>87</td>\n",
       "      <td>https://open.spotify.com/track/3USxtqRwSYz57Ew...</td>\n",
       "      <td>3USxtqRwSYz57Ewm6wWRMp</td>\n",
       "      <td>3.980083</td>\n",
       "    </tr>\n",
       "    <tr>\n",
       "      <th>4</th>\n",
       "      <td>Let Me Love You</td>\n",
       "      <td>DJ Snake</td>\n",
       "      <td>Encore</td>\n",
       "      <td>2016-08-05</td>\n",
       "      <td>87</td>\n",
       "      <td>https://open.spotify.com/track/0lYBSQXN6rCTvUZ...</td>\n",
       "      <td>0lYBSQXN6rCTvUZvg9S0lU</td>\n",
       "      <td>3.432433</td>\n",
       "    </tr>\n",
       "    <tr>\n",
       "      <th>5</th>\n",
       "      <td>La La La</td>\n",
       "      <td>Naughty Boy</td>\n",
       "      <td>La La La</td>\n",
       "      <td>2013-01-01</td>\n",
       "      <td>77</td>\n",
       "      <td>https://open.spotify.com/track/52gvlDnre9craz9...</td>\n",
       "      <td>52gvlDnre9craz9dKGObp8</td>\n",
       "      <td>3.679650</td>\n",
       "    </tr>\n",
       "    <tr>\n",
       "      <th>6</th>\n",
       "      <td>Apocalypse</td>\n",
       "      <td>Cigarettes After Sex</td>\n",
       "      <td>Cigarettes After Sex</td>\n",
       "      <td>2017-06-09</td>\n",
       "      <td>73</td>\n",
       "      <td>https://open.spotify.com/track/0yc6Gst2xkRu0eM...</td>\n",
       "      <td>0yc6Gst2xkRu0eMLeRMGCX</td>\n",
       "      <td>4.843600</td>\n",
       "    </tr>\n",
       "    <tr>\n",
       "      <th>7</th>\n",
       "      <td>Good For You</td>\n",
       "      <td>Selena Gomez</td>\n",
       "      <td>Revival (Deluxe)</td>\n",
       "      <td>2015-10-09</td>\n",
       "      <td>80</td>\n",
       "      <td>https://open.spotify.com/track/5xdVqHtFS0eLuNp...</td>\n",
       "      <td>5xdVqHtFS0eLuNp4Z8Wbpa</td>\n",
       "      <td>3.688000</td>\n",
       "    </tr>\n",
       "    <tr>\n",
       "      <th>8</th>\n",
       "      <td>Baby</td>\n",
       "      <td>Justin Bieber</td>\n",
       "      <td>My World 2.0</td>\n",
       "      <td>2010-01-01</td>\n",
       "      <td>84</td>\n",
       "      <td>https://open.spotify.com/track/6epn3r7S14KUqlR...</td>\n",
       "      <td>6epn3r7S14KUqlReYr77hA</td>\n",
       "      <td>3.570667</td>\n",
       "    </tr>\n",
       "    <tr>\n",
       "      <th>9</th>\n",
       "      <td>There's Nothing Holdin' Me Back</td>\n",
       "      <td>Shawn Mendes</td>\n",
       "      <td>Illuminate (Deluxe)</td>\n",
       "      <td>2017-04-20</td>\n",
       "      <td>88</td>\n",
       "      <td>https://open.spotify.com/track/7JJmb5XwzOO8jgp...</td>\n",
       "      <td>7JJmb5XwzOO8jgpou264Ml</td>\n",
       "      <td>3.324000</td>\n",
       "    </tr>\n",
       "  </tbody>\n",
       "</table>\n",
       "</div>"
      ],
      "text/plain": [
       "                        track_name                artist  \\\n",
       "0         All The Stars (with SZA)        Kendrick Lamar   \n",
       "1                          Starboy            The Weeknd   \n",
       "2                         Señorita          Shawn Mendes   \n",
       "3                       Heat Waves         Glass Animals   \n",
       "4                  Let Me Love You              DJ Snake   \n",
       "5                         La La La           Naughty Boy   \n",
       "6                       Apocalypse  Cigarettes After Sex   \n",
       "7                     Good For You          Selena Gomez   \n",
       "8                             Baby         Justin Bieber   \n",
       "9  There's Nothing Holdin' Me Back          Shawn Mendes   \n",
       "\n",
       "                                               album release_date  popularity  \\\n",
       "0  Black Panther The Album Music From And Inspire...   2018-02-09          95   \n",
       "1                                            Starboy   2016-11-25          90   \n",
       "2                                           Señorita   2019-06-21          80   \n",
       "3                                          Dreamland   2020-08-07          87   \n",
       "4                                             Encore   2016-08-05          87   \n",
       "5                                           La La La   2013-01-01          77   \n",
       "6                               Cigarettes After Sex   2017-06-09          73   \n",
       "7                                   Revival (Deluxe)   2015-10-09          80   \n",
       "8                                       My World 2.0   2010-01-01          84   \n",
       "9                                Illuminate (Deluxe)   2017-04-20          88   \n",
       "\n",
       "                                         spotify_url                      id  \\\n",
       "0  https://open.spotify.com/track/3GCdLUSnKSMJhs4...  3GCdLUSnKSMJhs4Tj6CV3s   \n",
       "1  https://open.spotify.com/track/7MXVkk9YMctZqd1...  7MXVkk9YMctZqd1Srtv4MB   \n",
       "2  https://open.spotify.com/track/0TK2YIli7K1leLo...  0TK2YIli7K1leLovkQiNik   \n",
       "3  https://open.spotify.com/track/3USxtqRwSYz57Ew...  3USxtqRwSYz57Ewm6wWRMp   \n",
       "4  https://open.spotify.com/track/0lYBSQXN6rCTvUZ...  0lYBSQXN6rCTvUZvg9S0lU   \n",
       "5  https://open.spotify.com/track/52gvlDnre9craz9...  52gvlDnre9craz9dKGObp8   \n",
       "6  https://open.spotify.com/track/0yc6Gst2xkRu0eM...  0yc6Gst2xkRu0eMLeRMGCX   \n",
       "7  https://open.spotify.com/track/5xdVqHtFS0eLuNp...  5xdVqHtFS0eLuNp4Z8Wbpa   \n",
       "8  https://open.spotify.com/track/6epn3r7S14KUqlR...  6epn3r7S14KUqlReYr77hA   \n",
       "9  https://open.spotify.com/track/7JJmb5XwzOO8jgp...  7JJmb5XwzOO8jgpou264Ml   \n",
       "\n",
       "   duration_min  \n",
       "0      3.869767  \n",
       "1      3.840883  \n",
       "2      3.182667  \n",
       "3      3.980083  \n",
       "4      3.432433  \n",
       "5      3.679650  \n",
       "6      4.843600  \n",
       "7      3.688000  \n",
       "8      3.570667  \n",
       "9      3.324000  "
      ]
     },
     "execution_count": 4,
     "metadata": {},
     "output_type": "execute_result"
    }
   ],
   "source": [
    "df.head(10)"
   ]
  },
  {
   "cell_type": "code",
   "execution_count": 5,
   "id": "1a3da71e",
   "metadata": {},
   "outputs": [],
   "source": [
    "# Funcao para trocar o nome das colunas deixando as em portugues&logica\n",
    "\n",
    "df = df.rename(columns={'track_name': 'Nome_Da_Faixa', 'artist': 'Artista', 'album':'Álbum', \n",
    "                        'release_date':'Data_De_Lançamento', 'popularity':'Popularidade', 'spotify_url':'Spotify_URL',\n",
    "                        'id':'ID', 'duration_min':'Duração_Mínima'})"
   ]
  },
  {
   "cell_type": "code",
   "execution_count": 6,
   "id": "47d938dd",
   "metadata": {},
   "outputs": [
    {
     "name": "stdout",
     "output_type": "stream",
     "text": [
      "Total de registro no dataset original: 1000\n"
     ]
    }
   ],
   "source": [
    "# Total de registros\n",
    "\n",
    "print(f'Total de registro no dataset original: {len(df)}')"
   ]
  },
  {
   "cell_type": "code",
   "execution_count": 7,
   "id": "c1a23616",
   "metadata": {},
   "outputs": [],
   "source": [
    "# 1 - Amostra Aleatoria\n",
    "\n",
    "df_amostra1 = df.sample(n=100, random_state=1)\n",
    "\n",
    "# n = indica a quantidade de linhas que desejamos\n",
    "# random_state = é um gerador de números aleatórios"
   ]
  },
  {
   "cell_type": "code",
   "execution_count": 8,
   "id": "7c7ada77",
   "metadata": {},
   "outputs": [],
   "source": [
    "# 2 - Amostra Aleatoria\n",
    "\n",
    "df_amostra2 = df.sample(n=100, random_state=2)"
   ]
  },
  {
   "cell_type": "code",
   "execution_count": 9,
   "id": "e7f872ed",
   "metadata": {},
   "outputs": [
    {
     "data": {
      "text/plain": [
       "Nome_Da_Faixa         0\n",
       "Artista               0\n",
       "Álbum                 0\n",
       "Data_De_Lançamento    0\n",
       "Popularidade          0\n",
       "Spotify_URL           0\n",
       "ID                    0\n",
       "Duração_Mínima        0\n",
       "dtype: int64"
      ]
     },
     "execution_count": 9,
     "metadata": {},
     "output_type": "execute_result"
    }
   ],
   "source": [
    "# Verificar se ha alguma colunas nula\n",
    "\n",
    "df.isnull().sum()"
   ]
  },
  {
   "cell_type": "code",
   "execution_count": 10,
   "id": "2a5ea4cf",
   "metadata": {},
   "outputs": [
    {
     "data": {
      "text/plain": [
       "np.False_"
      ]
     },
     "execution_count": 10,
     "metadata": {},
     "output_type": "execute_result"
    }
   ],
   "source": [
    "# Verifica se ha alguma linha duplicada\n",
    "\n",
    "df.duplicated().any()"
   ]
  },
  {
   "cell_type": "code",
   "execution_count": 11,
   "id": "ea26230e",
   "metadata": {},
   "outputs": [],
   "source": [
    "# Agrupamento de Artistas e Popularidade\n",
    "\n",
    "artista_popularidade = df.groupby(['Artista', 'Popularidade']).size().reset_index(name='Ordem').sort_values('Popularidade', ascending=False)\n",
    "\n",
    "#size() = numero de ocorrencias no grupo\n",
    "#sort_values = ordenar do mais popular para o menos"
   ]
  },
  {
   "cell_type": "code",
   "execution_count": 12,
   "id": "b490213d",
   "metadata": {},
   "outputs": [
    {
     "name": "stdout",
     "output_type": "stream",
     "text": [
      "            Artista  Popularidade  Ordem\n",
      "357   Gracie Abrams            97      1\n",
      "667            ROSÉ            96      1\n",
      "471  Kendrick Lamar            95      1\n",
      "842      The Weeknd            93      1\n",
      "72   Arctic Monkeys            93      1\n"
     ]
    }
   ],
   "source": [
    "# Impressao do Agrupamento de Artistas e Popularidade\n",
    "\n",
    "print(artista_popularidade.head())"
   ]
  },
  {
   "cell_type": "code",
   "execution_count": 13,
   "id": "cfacae26",
   "metadata": {},
   "outputs": [],
   "source": [
    "# Agrupamento de Artista + Popularidade + Álbum + Data_De_Lançamento\n",
    "\n",
    "artista_popular_album_data = df.groupby(['Artista', 'Popularidade', 'Álbum', 'Data_De_Lançamento']).size().reset_index(name='Ordem').sort_values(by='Popularidade', ascending=False)\n",
    "\n",
    "#size() = numero de ocorrencias no grupo\n",
    "#sort_values = ordenar do mais popular para o menos"
   ]
  },
  {
   "cell_type": "code",
   "execution_count": 14,
   "id": "aa4b4ba1",
   "metadata": {},
   "outputs": [
    {
     "name": "stdout",
     "output_type": "stream",
     "text": [
      "            Artista  Popularidade  \\\n",
      "385   Gracie Abrams            97   \n",
      "716            ROSÉ            96   \n",
      "503  Kendrick Lamar            95   \n",
      "910      The Weeknd            93   \n",
      "78   Arctic Monkeys            93   \n",
      "..              ...           ...   \n",
      "397        Harddope             0   \n",
      "398        Harddope             0   \n",
      "948       Xanemusic             0   \n",
      "949            Xizt             0   \n",
      "987   ✝✝✝ (Crosses)             0   \n",
      "\n",
      "                                                 Álbum Data_De_Lançamento  \\\n",
      "385                          The Secret of Us (Deluxe)         2024-10-18   \n",
      "716                                               APT.         2024-10-18   \n",
      "503  Black Panther The Album Music From And Inspire...         2018-02-09   \n",
      "910  The Idol Episode 4 (Music from the HBO Origina...         2023-06-23   \n",
      "78                                                  AM         2013-09-09   \n",
      "..                                                 ...                ...   \n",
      "397                                              10:35         2023-09-01   \n",
      "398                                 Baby Don't Hurt Me         2024-01-05   \n",
      "948                         Renegade (sped up) [Remix]         2023-01-18   \n",
      "949                          Sex, Drugs, Etc (Sped Up)         2022-09-12   \n",
      "987                                      ✝✝✝ (Crosses)         2014-02-11   \n",
      "\n",
      "     Ordem  \n",
      "385      1  \n",
      "716      1  \n",
      "503      1  \n",
      "910      1  \n",
      "78       1  \n",
      "..     ...  \n",
      "397      1  \n",
      "398      1  \n",
      "948      1  \n",
      "949      1  \n",
      "987      1  \n",
      "\n",
      "[988 rows x 5 columns]\n"
     ]
    }
   ],
   "source": [
    "# Impressao do Agrupamento de Artista + Popularidade + Álbum + Data_De_Lançamento\n",
    "\n",
    "print(artista_popular_album_data)"
   ]
  },
  {
   "cell_type": "code",
   "execution_count": null,
   "id": "246d8b45",
   "metadata": {},
   "outputs": [],
   "source": [
    "# Filtro de duracao minima de musica\n",
    "#Perguntas Membro 1: Amarildo\n",
    "musica_minima = df[df['Duração_Mínima'] < 2][['Nome_Da_Faixa', 'Duração_Mínima']].sort_values('Duração_Mínima', ascending=True)"
   ]
  },
  {
   "cell_type": "code",
   "execution_count": 16,
   "id": "49459949",
   "metadata": {},
   "outputs": [
    {
     "data": {
      "text/html": [
       "<div>\n",
       "<style scoped>\n",
       "    .dataframe tbody tr th:only-of-type {\n",
       "        vertical-align: middle;\n",
       "    }\n",
       "\n",
       "    .dataframe tbody tr th {\n",
       "        vertical-align: top;\n",
       "    }\n",
       "\n",
       "    .dataframe thead th {\n",
       "        text-align: right;\n",
       "    }\n",
       "</style>\n",
       "<table border=\"1\" class=\"dataframe\">\n",
       "  <thead>\n",
       "    <tr style=\"text-align: right;\">\n",
       "      <th></th>\n",
       "      <th>Nome_Da_Faixa</th>\n",
       "      <th>Duração_Mínima</th>\n",
       "    </tr>\n",
       "  </thead>\n",
       "  <tbody>\n",
       "    <tr>\n",
       "      <th>227</th>\n",
       "      <td>Bezos I</td>\n",
       "      <td>0.969150</td>\n",
       "    </tr>\n",
       "    <tr>\n",
       "      <th>221</th>\n",
       "      <td>SugarCrash!</td>\n",
       "      <td>1.334667</td>\n",
       "    </tr>\n",
       "    <tr>\n",
       "      <th>821</th>\n",
       "      <td>MONTAGEM TOMADA - Slowed</td>\n",
       "      <td>1.415017</td>\n",
       "    </tr>\n",
       "    <tr>\n",
       "      <th>728</th>\n",
       "      <td>nuts</td>\n",
       "      <td>1.422667</td>\n",
       "    </tr>\n",
       "    <tr>\n",
       "      <th>832</th>\n",
       "      <td>FERRARI FRIGHT</td>\n",
       "      <td>1.426583</td>\n",
       "    </tr>\n",
       "    <tr>\n",
       "      <th>892</th>\n",
       "      <td>Fairy</td>\n",
       "      <td>1.451850</td>\n",
       "    </tr>\n",
       "    <tr>\n",
       "      <th>691</th>\n",
       "      <td>SUICIDE YEAR</td>\n",
       "      <td>1.528850</td>\n",
       "    </tr>\n",
       "    <tr>\n",
       "      <th>734</th>\n",
       "      <td>Formula</td>\n",
       "      <td>1.531150</td>\n",
       "    </tr>\n",
       "    <tr>\n",
       "      <th>909</th>\n",
       "      <td>Kandy Krush</td>\n",
       "      <td>1.580717</td>\n",
       "    </tr>\n",
       "    <tr>\n",
       "      <th>406</th>\n",
       "      <td>Jiggle Jiggle (with Duke &amp; Jones)</td>\n",
       "      <td>1.620133</td>\n",
       "    </tr>\n",
       "  </tbody>\n",
       "</table>\n",
       "</div>"
      ],
      "text/plain": [
       "                         Nome_Da_Faixa  Duração_Mínima\n",
       "227                            Bezos I        0.969150\n",
       "221                        SugarCrash!        1.334667\n",
       "821           MONTAGEM TOMADA - Slowed        1.415017\n",
       "728                               nuts        1.422667\n",
       "832                     FERRARI FRIGHT        1.426583\n",
       "892                              Fairy        1.451850\n",
       "691                       SUICIDE YEAR        1.528850\n",
       "734                            Formula        1.531150\n",
       "909                        Kandy Krush        1.580717\n",
       "406  Jiggle Jiggle (with Duke & Jones)        1.620133"
      ]
     },
     "execution_count": 16,
     "metadata": {},
     "output_type": "execute_result"
    }
   ],
   "source": [
    "musica_minima.head(10)"
   ]
  },
  {
   "cell_type": "code",
   "execution_count": null,
   "id": "a56c7dd3",
   "metadata": {},
   "outputs": [
    {
     "data": {
      "text/plain": [
       "Nome_Da_Faixa     That’s So True\n",
       "Duração_Mínima          2.771667\n",
       "Name: 611, dtype: object"
      ]
     },
     "execution_count": 17,
     "metadata": {},
     "output_type": "execute_result"
    }
   ],
   "source": [
    "#Pergunta: Qual é a música com a maior popularidade e qual é sua duração?\n",
    "df.loc[df['Popularidade'].idxmax(), ['Nome_Da_Faixa', 'Duração_Mínima']]\n",
    "\n"
   ]
  },
  {
   "cell_type": "code",
   "execution_count": 20,
   "id": "774c4156",
   "metadata": {},
   "outputs": [
    {
     "data": {
      "text/html": [
       "<div>\n",
       "<style scoped>\n",
       "    .dataframe tbody tr th:only-of-type {\n",
       "        vertical-align: middle;\n",
       "    }\n",
       "\n",
       "    .dataframe tbody tr th {\n",
       "        vertical-align: top;\n",
       "    }\n",
       "\n",
       "    .dataframe thead th {\n",
       "        text-align: right;\n",
       "    }\n",
       "</style>\n",
       "<table border=\"1\" class=\"dataframe\">\n",
       "  <thead>\n",
       "    <tr style=\"text-align: right;\">\n",
       "      <th></th>\n",
       "      <th>Nome_Da_Faixa</th>\n",
       "      <th>Artista</th>\n",
       "      <th>Álbum</th>\n",
       "      <th>Data_De_Lançamento</th>\n",
       "      <th>Popularidade</th>\n",
       "      <th>Spotify_URL</th>\n",
       "      <th>ID</th>\n",
       "      <th>Duração_Mínima</th>\n",
       "    </tr>\n",
       "  </thead>\n",
       "  <tbody>\n",
       "    <tr>\n",
       "      <th>611</th>\n",
       "      <td>That’s So True</td>\n",
       "      <td>Gracie Abrams</td>\n",
       "      <td>The Secret of Us (Deluxe)</td>\n",
       "      <td>2024-10-18</td>\n",
       "      <td>97</td>\n",
       "      <td>https://open.spotify.com/track/7ne4VBA60CxGM75...</td>\n",
       "      <td>7ne4VBA60CxGM75vw0EYad</td>\n",
       "      <td>2.771667</td>\n",
       "    </tr>\n",
       "    <tr>\n",
       "      <th>606</th>\n",
       "      <td>APT.</td>\n",
       "      <td>ROSÉ</td>\n",
       "      <td>APT.</td>\n",
       "      <td>2024-10-18</td>\n",
       "      <td>96</td>\n",
       "      <td>https://open.spotify.com/track/5vNRhkKd0yEAg8s...</td>\n",
       "      <td>5vNRhkKd0yEAg8suGBpjeY</td>\n",
       "      <td>2.831950</td>\n",
       "    </tr>\n",
       "    <tr>\n",
       "      <th>0</th>\n",
       "      <td>All The Stars (with SZA)</td>\n",
       "      <td>Kendrick Lamar</td>\n",
       "      <td>Black Panther The Album Music From And Inspire...</td>\n",
       "      <td>2018-02-09</td>\n",
       "      <td>95</td>\n",
       "      <td>https://open.spotify.com/track/3GCdLUSnKSMJhs4...</td>\n",
       "      <td>3GCdLUSnKSMJhs4Tj6CV3s</td>\n",
       "      <td>3.869767</td>\n",
       "    </tr>\n",
       "    <tr>\n",
       "      <th>771</th>\n",
       "      <td>One Of The Girls (with JENNIE, Lily Rose Depp)</td>\n",
       "      <td>The Weeknd</td>\n",
       "      <td>The Idol Episode 4 (Music from the HBO Origina...</td>\n",
       "      <td>2023-06-23</td>\n",
       "      <td>93</td>\n",
       "      <td>https://open.spotify.com/track/7CyPwkp0oE8Ro9D...</td>\n",
       "      <td>7CyPwkp0oE8Ro9Dd5CUDjW</td>\n",
       "      <td>4.078067</td>\n",
       "    </tr>\n",
       "    <tr>\n",
       "      <th>484</th>\n",
       "      <td>I Wanna Be Yours</td>\n",
       "      <td>Arctic Monkeys</td>\n",
       "      <td>AM</td>\n",
       "      <td>2013-09-09</td>\n",
       "      <td>93</td>\n",
       "      <td>https://open.spotify.com/track/5XeFesFbtLpXzIV...</td>\n",
       "      <td>5XeFesFbtLpXzIVDNQP22n</td>\n",
       "      <td>3.065933</td>\n",
       "    </tr>\n",
       "  </tbody>\n",
       "</table>\n",
       "</div>"
      ],
      "text/plain": [
       "                                      Nome_Da_Faixa         Artista  \\\n",
       "611                                  That’s So True   Gracie Abrams   \n",
       "606                                            APT.            ROSÉ   \n",
       "0                          All The Stars (with SZA)  Kendrick Lamar   \n",
       "771  One Of The Girls (with JENNIE, Lily Rose Depp)      The Weeknd   \n",
       "484                                I Wanna Be Yours  Arctic Monkeys   \n",
       "\n",
       "                                                 Álbum Data_De_Lançamento  \\\n",
       "611                          The Secret of Us (Deluxe)         2024-10-18   \n",
       "606                                               APT.         2024-10-18   \n",
       "0    Black Panther The Album Music From And Inspire...         2018-02-09   \n",
       "771  The Idol Episode 4 (Music from the HBO Origina...         2023-06-23   \n",
       "484                                                 AM         2013-09-09   \n",
       "\n",
       "     Popularidade                                        Spotify_URL  \\\n",
       "611            97  https://open.spotify.com/track/7ne4VBA60CxGM75...   \n",
       "606            96  https://open.spotify.com/track/5vNRhkKd0yEAg8s...   \n",
       "0              95  https://open.spotify.com/track/3GCdLUSnKSMJhs4...   \n",
       "771            93  https://open.spotify.com/track/7CyPwkp0oE8Ro9D...   \n",
       "484            93  https://open.spotify.com/track/5XeFesFbtLpXzIV...   \n",
       "\n",
       "                         ID  Duração_Mínima  \n",
       "611  7ne4VBA60CxGM75vw0EYad        2.771667  \n",
       "606  5vNRhkKd0yEAg8suGBpjeY        2.831950  \n",
       "0    3GCdLUSnKSMJhs4Tj6CV3s        3.869767  \n",
       "771  7CyPwkp0oE8Ro9Dd5CUDjW        4.078067  \n",
       "484  5XeFesFbtLpXzIVDNQP22n        3.065933  "
      ]
     },
     "execution_count": 20,
     "metadata": {},
     "output_type": "execute_result"
    }
   ],
   "source": [
    "# Ordenação por popularidade decrescente\n",
    "df.sort_values(by='Popularidade', ascending=False).head(5)\n"
   ]
  },
  {
   "cell_type": "code",
   "execution_count": 23,
   "id": "9a3bff13",
   "metadata": {},
   "outputs": [
    {
     "data": {
      "text/html": [
       "<div>\n",
       "<style scoped>\n",
       "    .dataframe tbody tr th:only-of-type {\n",
       "        vertical-align: middle;\n",
       "    }\n",
       "\n",
       "    .dataframe tbody tr th {\n",
       "        vertical-align: top;\n",
       "    }\n",
       "\n",
       "    .dataframe thead th {\n",
       "        text-align: right;\n",
       "    }\n",
       "</style>\n",
       "<table border=\"1\" class=\"dataframe\">\n",
       "  <thead>\n",
       "    <tr style=\"text-align: right;\">\n",
       "      <th></th>\n",
       "      <th>Nome_Da_Faixa</th>\n",
       "      <th>Artista</th>\n",
       "      <th>Álbum</th>\n",
       "      <th>Data_De_Lançamento</th>\n",
       "      <th>Popularidade</th>\n",
       "      <th>Spotify_URL</th>\n",
       "      <th>ID</th>\n",
       "      <th>Duração_Mínima</th>\n",
       "    </tr>\n",
       "  </thead>\n",
       "  <tbody>\n",
       "    <tr>\n",
       "      <th>227</th>\n",
       "      <td>Bezos I</td>\n",
       "      <td>Bo Burnham</td>\n",
       "      <td>Inside (The Songs)</td>\n",
       "      <td>2021-06-10</td>\n",
       "      <td>0</td>\n",
       "      <td>https://open.spotify.com/track/0Kdj7nwaYQmvhxn...</td>\n",
       "      <td>0Kdj7nwaYQmvhxnqZaIQuW</td>\n",
       "      <td>0.969150</td>\n",
       "    </tr>\n",
       "    <tr>\n",
       "      <th>221</th>\n",
       "      <td>SugarCrash!</td>\n",
       "      <td>ElyOtto</td>\n",
       "      <td>SugarCrash!</td>\n",
       "      <td>2020-08-25</td>\n",
       "      <td>69</td>\n",
       "      <td>https://open.spotify.com/track/2ePtv8MlBO9nuuX...</td>\n",
       "      <td>2ePtv8MlBO9nuuXABqAfEX</td>\n",
       "      <td>1.334667</td>\n",
       "    </tr>\n",
       "    <tr>\n",
       "      <th>821</th>\n",
       "      <td>MONTAGEM TOMADA - Slowed</td>\n",
       "      <td>MXZI</td>\n",
       "      <td>MONTAGEM TOMADA</td>\n",
       "      <td>2025-03-21</td>\n",
       "      <td>81</td>\n",
       "      <td>https://open.spotify.com/track/1mfvWzF39LwVpAm...</td>\n",
       "      <td>1mfvWzF39LwVpAm8g0LhQT</td>\n",
       "      <td>1.415017</td>\n",
       "    </tr>\n",
       "    <tr>\n",
       "      <th>728</th>\n",
       "      <td>nuts</td>\n",
       "      <td>Lil Peep</td>\n",
       "      <td>LIVE FOREVER</td>\n",
       "      <td>2022-12-02</td>\n",
       "      <td>2</td>\n",
       "      <td>https://open.spotify.com/track/11k8KTbNeG9iabe...</td>\n",
       "      <td>11k8KTbNeG9iabeNXMuwf0</td>\n",
       "      <td>1.422667</td>\n",
       "    </tr>\n",
       "    <tr>\n",
       "      <th>832</th>\n",
       "      <td>FERRARI FRIGHT</td>\n",
       "      <td>Scythermane</td>\n",
       "      <td>FERRARI FRIGHT</td>\n",
       "      <td>2025-02-17</td>\n",
       "      <td>50</td>\n",
       "      <td>https://open.spotify.com/track/2KLKOr4xwpWqf80...</td>\n",
       "      <td>2KLKOr4xwpWqf80x7DVrlt</td>\n",
       "      <td>1.426583</td>\n",
       "    </tr>\n",
       "  </tbody>\n",
       "</table>\n",
       "</div>"
      ],
      "text/plain": [
       "                Nome_Da_Faixa      Artista               Álbum  \\\n",
       "227                   Bezos I   Bo Burnham  Inside (The Songs)   \n",
       "221               SugarCrash!      ElyOtto         SugarCrash!   \n",
       "821  MONTAGEM TOMADA - Slowed         MXZI     MONTAGEM TOMADA   \n",
       "728                      nuts     Lil Peep        LIVE FOREVER   \n",
       "832            FERRARI FRIGHT  Scythermane      FERRARI FRIGHT   \n",
       "\n",
       "    Data_De_Lançamento  Popularidade  \\\n",
       "227         2021-06-10             0   \n",
       "221         2020-08-25            69   \n",
       "821         2025-03-21            81   \n",
       "728         2022-12-02             2   \n",
       "832         2025-02-17            50   \n",
       "\n",
       "                                           Spotify_URL  \\\n",
       "227  https://open.spotify.com/track/0Kdj7nwaYQmvhxn...   \n",
       "221  https://open.spotify.com/track/2ePtv8MlBO9nuuX...   \n",
       "821  https://open.spotify.com/track/1mfvWzF39LwVpAm...   \n",
       "728  https://open.spotify.com/track/11k8KTbNeG9iabe...   \n",
       "832  https://open.spotify.com/track/2KLKOr4xwpWqf80...   \n",
       "\n",
       "                         ID  Duração_Mínima  \n",
       "227  0Kdj7nwaYQmvhxnqZaIQuW        0.969150  \n",
       "221  2ePtv8MlBO9nuuXABqAfEX        1.334667  \n",
       "821  1mfvWzF39LwVpAm8g0LhQT        1.415017  \n",
       "728  11k8KTbNeG9iabeNXMuwf0        1.422667  \n",
       "832  2KLKOr4xwpWqf80x7DVrlt        1.426583  "
      ]
     },
     "execution_count": 23,
     "metadata": {},
     "output_type": "execute_result"
    }
   ],
   "source": [
    "# Ordenação por duração crescente\n",
    "df.sort_values(by='Duração_Mínima', ascending=True).head(5)\n"
   ]
  },
  {
   "cell_type": "code",
   "execution_count": 25,
   "id": "8bab4c14",
   "metadata": {},
   "outputs": [
    {
     "name": "stdout",
     "output_type": "stream",
     "text": [
      "Popularidade mínima: 0\n",
      "Popularidade máxima: 97\n"
     ]
    }
   ],
   "source": [
    "# Popularidade mínima e máxima\n",
    "print(\"Popularidade mínima:\", df['Popularidade'].min())\n",
    "print(\"Popularidade máxima:\", df['Popularidade'].max())\n"
   ]
  },
  {
   "cell_type": "code",
   "execution_count": 26,
   "id": "283c45a5",
   "metadata": {},
   "outputs": [
    {
     "name": "stdout",
     "output_type": "stream",
     "text": [
      "Duração total das músicas (min): 3318.5161666666663\n"
     ]
    }
   ],
   "source": [
    "# Soma da duração total (em minutos)\n",
    "print(\"Duração total das músicas (min):\", df['Duração_Mínima'].sum())\n"
   ]
  },
  {
   "cell_type": "code",
   "execution_count": 27,
   "id": "28c67fce",
   "metadata": {},
   "outputs": [
    {
     "data": {
      "text/html": [
       "<div>\n",
       "<style scoped>\n",
       "    .dataframe tbody tr th:only-of-type {\n",
       "        vertical-align: middle;\n",
       "    }\n",
       "\n",
       "    .dataframe tbody tr th {\n",
       "        vertical-align: top;\n",
       "    }\n",
       "\n",
       "    .dataframe thead th {\n",
       "        text-align: right;\n",
       "    }\n",
       "</style>\n",
       "<table border=\"1\" class=\"dataframe\">\n",
       "  <thead>\n",
       "    <tr style=\"text-align: right;\">\n",
       "      <th></th>\n",
       "      <th>Nome_Da_Faixa</th>\n",
       "      <th>Artista</th>\n",
       "      <th>Álbum</th>\n",
       "      <th>Data_De_Lançamento</th>\n",
       "      <th>Popularidade</th>\n",
       "      <th>Spotify_URL</th>\n",
       "      <th>ID</th>\n",
       "      <th>Duração_Mínima</th>\n",
       "    </tr>\n",
       "  </thead>\n",
       "  <tbody>\n",
       "    <tr>\n",
       "      <th>1</th>\n",
       "      <td>Starboy</td>\n",
       "      <td>The Weeknd</td>\n",
       "      <td>Starboy</td>\n",
       "      <td>2016-11-25</td>\n",
       "      <td>90</td>\n",
       "      <td>https://open.spotify.com/track/7MXVkk9YMctZqd1...</td>\n",
       "      <td>7MXVkk9YMctZqd1Srtv4MB</td>\n",
       "      <td>3.840883</td>\n",
       "    </tr>\n",
       "    <tr>\n",
       "      <th>14</th>\n",
       "      <td>Blinding Lights</td>\n",
       "      <td>The Weeknd</td>\n",
       "      <td>Blinding Lights</td>\n",
       "      <td>2020-09-11</td>\n",
       "      <td>63</td>\n",
       "      <td>https://open.spotify.com/track/6qYkmqFsXbj8CQj...</td>\n",
       "      <td>6qYkmqFsXbj8CQjAdbYz07</td>\n",
       "      <td>3.334083</td>\n",
       "    </tr>\n",
       "    <tr>\n",
       "      <th>19</th>\n",
       "      <td>Die For You</td>\n",
       "      <td>The Weeknd</td>\n",
       "      <td>Starboy</td>\n",
       "      <td>2016-11-25</td>\n",
       "      <td>81</td>\n",
       "      <td>https://open.spotify.com/track/2Ch7LmS7r2Gy2kc...</td>\n",
       "      <td>2Ch7LmS7r2Gy2kc64wv3Bz</td>\n",
       "      <td>4.337533</td>\n",
       "    </tr>\n",
       "    <tr>\n",
       "      <th>24</th>\n",
       "      <td>Save Your Tears</td>\n",
       "      <td>The Weeknd</td>\n",
       "      <td>After Hours</td>\n",
       "      <td>2020-03-20</td>\n",
       "      <td>87</td>\n",
       "      <td>https://open.spotify.com/track/5QO79kh1waicV47...</td>\n",
       "      <td>5QO79kh1waicV47BqGRL3g</td>\n",
       "      <td>3.593767</td>\n",
       "    </tr>\n",
       "    <tr>\n",
       "      <th>32</th>\n",
       "      <td>Reminder</td>\n",
       "      <td>The Weeknd</td>\n",
       "      <td>Starboy</td>\n",
       "      <td>2016-11-25</td>\n",
       "      <td>84</td>\n",
       "      <td>https://open.spotify.com/track/37F0uwRSrdzkBiu...</td>\n",
       "      <td>37F0uwRSrdzkBiuj0D5UHI</td>\n",
       "      <td>3.648000</td>\n",
       "    </tr>\n",
       "  </tbody>\n",
       "</table>\n",
       "</div>"
      ],
      "text/plain": [
       "      Nome_Da_Faixa     Artista            Álbum Data_De_Lançamento  \\\n",
       "1           Starboy  The Weeknd          Starboy         2016-11-25   \n",
       "14  Blinding Lights  The Weeknd  Blinding Lights         2020-09-11   \n",
       "19      Die For You  The Weeknd          Starboy         2016-11-25   \n",
       "24  Save Your Tears  The Weeknd      After Hours         2020-03-20   \n",
       "32         Reminder  The Weeknd          Starboy         2016-11-25   \n",
       "\n",
       "    Popularidade                                        Spotify_URL  \\\n",
       "1             90  https://open.spotify.com/track/7MXVkk9YMctZqd1...   \n",
       "14            63  https://open.spotify.com/track/6qYkmqFsXbj8CQj...   \n",
       "19            81  https://open.spotify.com/track/2Ch7LmS7r2Gy2kc...   \n",
       "24            87  https://open.spotify.com/track/5QO79kh1waicV47...   \n",
       "32            84  https://open.spotify.com/track/37F0uwRSrdzkBiu...   \n",
       "\n",
       "                        ID  Duração_Mínima  \n",
       "1   7MXVkk9YMctZqd1Srtv4MB        3.840883  \n",
       "14  6qYkmqFsXbj8CQjAdbYz07        3.334083  \n",
       "19  2Ch7LmS7r2Gy2kc64wv3Bz        4.337533  \n",
       "24  5QO79kh1waicV47BqGRL3g        3.593767  \n",
       "32  37F0uwRSrdzkBiuj0D5UHI        3.648000  "
      ]
     },
     "execution_count": 27,
     "metadata": {},
     "output_type": "execute_result"
    }
   ],
   "source": [
    "# Subset: músicas do artista mais frequente\n",
    "top_artist = df['Artista'].value_counts().idxmax()\n",
    "subset_top_artist = df[df['Artista'] == top_artist]\n",
    "subset_top_artist.head()\n"
   ]
  },
  {
   "cell_type": "code",
   "execution_count": 29,
   "id": "45a0c3b9",
   "metadata": {},
   "outputs": [
    {
     "name": "stdout",
     "output_type": "stream",
     "text": [
      "    Nome_Da_Faixa Artista  Duração_Mínima\n",
      "710      Lost Boy   Jaden        9.497883\n"
     ]
    }
   ],
   "source": [
    "#Musica mais longa da database\n",
    "longest_track = df[df['Duração_Mínima'] == df['Duração_Mínima'].max()]\n",
    "print(longest_track[['Nome_Da_Faixa', 'Artista', 'Duração_Mínima']])\n"
   ]
  },
  {
   "cell_type": "code",
   "execution_count": 22,
   "id": "0b3ffd4f",
   "metadata": {},
   "outputs": [
    {
     "name": "stdout",
     "output_type": "stream",
     "text": [
      "Index(['Nome_Da_Faixa', 'Artista', 'Álbum', 'Data_De_Lançamento',\n",
      "       'Popularidade', 'Spotify_URL', 'ID', 'Duração_Mínima'],\n",
      "      dtype='object')\n"
     ]
    }
   ],
   "source": [
    "#Colunas Reescrevidas para Pt\n",
    "print(df.columns)\n"
   ]
  },
  {
   "cell_type": "code",
   "execution_count": null,
   "id": "6d626188",
   "metadata": {},
   "outputs": [
    {
     "name": "stdout",
     "output_type": "stream",
     "text": [
      "Quantidade de músicas lançadas após 2020: 343\n"
     ]
    }
   ],
   "source": [
    "# Quantas músicas lançadas depois de 2020 estão no top 1000?\n",
    "df['Data_De_Lançamento'] = pd.to_datetime(df['Data_De_Lançamento'], errors='coerce')\n",
    "\n",
    "# Filtra músicas lançadas após 2020\n",
    "recent_songs = df[df['Data_De_Lançamento'].dt.year > 2020]\n",
    "print(\"Quantidade de músicas lançadas após 2020:\", len(recent_songs))\n"
   ]
  },
  {
   "cell_type": "code",
   "execution_count": 36,
   "id": "6d4f193c",
   "metadata": {},
   "outputs": [
    {
     "name": "stdout",
     "output_type": "stream",
     "text": [
      "Artista mais recorrente: The Weeknd\n",
      "Média de popularidade desse Artista: 75.54\n"
     ]
    }
   ],
   "source": [
    "# Artista mais frequente e qual sua média de popularidade?\n",
    "top_artist = df['Artista'].value_counts().idxmax()\n",
    "\n",
    "# Média de popularidade desse artista\n",
    "mean_popularity = df[df['Artista'] == top_artist]['Popularidade'].mean()\n",
    "\n",
    "print(f\"Artista mais recorrente: {top_artist}\")\n",
    "print(f\"Média de popularidade desse Artista: {mean_popularity:.2f}\")\n"
   ]
  }
 ],
 "metadata": {
  "kernelspec": {
   "display_name": "Python 3",
   "language": "python",
   "name": "python3"
  },
  "language_info": {
   "codemirror_mode": {
    "name": "ipython",
    "version": 3
   },
   "file_extension": ".py",
   "mimetype": "text/x-python",
   "name": "python",
   "nbconvert_exporter": "python",
   "pygments_lexer": "ipython3",
   "version": "3.11.0"
  }
 },
 "nbformat": 4,
 "nbformat_minor": 5
}
