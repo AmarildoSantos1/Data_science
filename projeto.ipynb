{
 "cells": [
  {
   "cell_type": "code",
   "execution_count": 1,
   "id": "afc17d4b",
   "metadata": {},
   "outputs": [],
   "source": [
    "import pandas as pd"
   ]
  },
  {
   "cell_type": "code",
   "execution_count": 4,
   "id": "975672ae",
   "metadata": {},
   "outputs": [
    {
     "name": "stdout",
     "output_type": "stream",
     "text": [
      "                   track_name          artist  \\\n",
      "0    All The Stars (with SZA)  Kendrick Lamar   \n",
      "1                     Starboy      The Weeknd   \n",
      "2                    Señorita    Shawn Mendes   \n",
      "3                  Heat Waves   Glass Animals   \n",
      "4             Let Me Love You        DJ Snake   \n",
      "..                        ...             ...   \n",
      "995                      Lily           ISAEV   \n",
      "996                 Apologize       Besomorph   \n",
      "997                  I’m Good    Yohan Gerber   \n",
      "998                      Down       Arc North   \n",
      "999                Chandelier        Besomage   \n",
      "\n",
      "                                                 album release_date  \\\n",
      "0    Black Panther The Album Music From And Inspire...   2018-02-09   \n",
      "1                                              Starboy   2016-11-25   \n",
      "2                                             Señorita   2019-06-21   \n",
      "3                                            Dreamland   2020-08-07   \n",
      "4                                               Encore   2016-08-05   \n",
      "..                                                 ...          ...   \n",
      "995                                               Lily   2023-02-24   \n",
      "996                                          Apologize   2020-05-08   \n",
      "997                                           I’m Good   2023-05-19   \n",
      "998                                               Down   2020-07-02   \n",
      "999                                         Chandelier   2023-01-04   \n",
      "\n",
      "     popularity                                        spotify_url  \\\n",
      "0            95  https://open.spotify.com/track/3GCdLUSnKSMJhs4...   \n",
      "1            90  https://open.spotify.com/track/7MXVkk9YMctZqd1...   \n",
      "2            80  https://open.spotify.com/track/0TK2YIli7K1leLo...   \n",
      "3            87  https://open.spotify.com/track/3USxtqRwSYz57Ew...   \n",
      "4            87  https://open.spotify.com/track/0lYBSQXN6rCTvUZ...   \n",
      "..          ...                                                ...   \n",
      "995           0  https://open.spotify.com/track/4tVhDkvh6N4lrTy...   \n",
      "996           5  https://open.spotify.com/track/0Uo43DNldd7aNxi...   \n",
      "997           0  https://open.spotify.com/track/2aZL4EjY5aPKWTO...   \n",
      "998           1  https://open.spotify.com/track/6nQZG4G0vIrQWaC...   \n",
      "999           0  https://open.spotify.com/track/1Ea8I3MoGx36FfA...   \n",
      "\n",
      "                         id  duration_min  \n",
      "0    3GCdLUSnKSMJhs4Tj6CV3s      3.869767  \n",
      "1    7MXVkk9YMctZqd1Srtv4MB      3.840883  \n",
      "2    0TK2YIli7K1leLovkQiNik      3.182667  \n",
      "3    3USxtqRwSYz57Ewm6wWRMp      3.980083  \n",
      "4    0lYBSQXN6rCTvUZvg9S0lU      3.432433  \n",
      "..                      ...           ...  \n",
      "995  4tVhDkvh6N4lrTyNeZHYuz      2.572100  \n",
      "996  0Uo43DNldd7aNxizhKgowg      2.443350  \n",
      "997  2aZL4EjY5aPKWTO7RKuWiy      2.376000  \n",
      "998  6nQZG4G0vIrQWaCGbqHCQn      2.391667  \n",
      "999  1Ea8I3MoGx36FfAmrjzo1r      2.295650  \n",
      "\n",
      "[1000 rows x 8 columns]\n"
     ]
    }
   ],
   "source": [
    "#Leitura do arquivo CSV\n",
    "df = pd.read_csv('./spotify_top_1000_tracks.csv')\n"
   ]
  },
  {
   "cell_type": "code",
   "execution_count": 9,
   "id": "e2bd4734",
   "metadata": {},
   "outputs": [
    {
     "data": {
      "text/html": [
       "<div>\n",
       "<style scoped>\n",
       "    .dataframe tbody tr th:only-of-type {\n",
       "        vertical-align: middle;\n",
       "    }\n",
       "\n",
       "    .dataframe tbody tr th {\n",
       "        vertical-align: top;\n",
       "    }\n",
       "\n",
       "    .dataframe thead th {\n",
       "        text-align: right;\n",
       "    }\n",
       "</style>\n",
       "<table border=\"1\" class=\"dataframe\">\n",
       "  <thead>\n",
       "    <tr style=\"text-align: right;\">\n",
       "      <th></th>\n",
       "      <th>Nome_Da_Faixa</th>\n",
       "      <th>Artista</th>\n",
       "      <th>Álbum</th>\n",
       "      <th>Data_De_Lançamento</th>\n",
       "      <th>Popularidade</th>\n",
       "      <th>Spotify_URL</th>\n",
       "      <th>ID</th>\n",
       "      <th>Duração_Mínima</th>\n",
       "    </tr>\n",
       "  </thead>\n",
       "  <tbody>\n",
       "    <tr>\n",
       "      <th>0</th>\n",
       "      <td>All The Stars (with SZA)</td>\n",
       "      <td>Kendrick Lamar</td>\n",
       "      <td>Black Panther The Album Music From And Inspire...</td>\n",
       "      <td>2018-02-09</td>\n",
       "      <td>95</td>\n",
       "      <td>https://open.spotify.com/track/3GCdLUSnKSMJhs4...</td>\n",
       "      <td>3GCdLUSnKSMJhs4Tj6CV3s</td>\n",
       "      <td>3.869767</td>\n",
       "    </tr>\n",
       "    <tr>\n",
       "      <th>1</th>\n",
       "      <td>Starboy</td>\n",
       "      <td>The Weeknd</td>\n",
       "      <td>Starboy</td>\n",
       "      <td>2016-11-25</td>\n",
       "      <td>90</td>\n",
       "      <td>https://open.spotify.com/track/7MXVkk9YMctZqd1...</td>\n",
       "      <td>7MXVkk9YMctZqd1Srtv4MB</td>\n",
       "      <td>3.840883</td>\n",
       "    </tr>\n",
       "    <tr>\n",
       "      <th>2</th>\n",
       "      <td>Señorita</td>\n",
       "      <td>Shawn Mendes</td>\n",
       "      <td>Señorita</td>\n",
       "      <td>2019-06-21</td>\n",
       "      <td>80</td>\n",
       "      <td>https://open.spotify.com/track/0TK2YIli7K1leLo...</td>\n",
       "      <td>0TK2YIli7K1leLovkQiNik</td>\n",
       "      <td>3.182667</td>\n",
       "    </tr>\n",
       "    <tr>\n",
       "      <th>3</th>\n",
       "      <td>Heat Waves</td>\n",
       "      <td>Glass Animals</td>\n",
       "      <td>Dreamland</td>\n",
       "      <td>2020-08-07</td>\n",
       "      <td>87</td>\n",
       "      <td>https://open.spotify.com/track/3USxtqRwSYz57Ew...</td>\n",
       "      <td>3USxtqRwSYz57Ewm6wWRMp</td>\n",
       "      <td>3.980083</td>\n",
       "    </tr>\n",
       "    <tr>\n",
       "      <th>4</th>\n",
       "      <td>Let Me Love You</td>\n",
       "      <td>DJ Snake</td>\n",
       "      <td>Encore</td>\n",
       "      <td>2016-08-05</td>\n",
       "      <td>87</td>\n",
       "      <td>https://open.spotify.com/track/0lYBSQXN6rCTvUZ...</td>\n",
       "      <td>0lYBSQXN6rCTvUZvg9S0lU</td>\n",
       "      <td>3.432433</td>\n",
       "    </tr>\n",
       "    <tr>\n",
       "      <th>5</th>\n",
       "      <td>La La La</td>\n",
       "      <td>Naughty Boy</td>\n",
       "      <td>La La La</td>\n",
       "      <td>2013-01-01</td>\n",
       "      <td>77</td>\n",
       "      <td>https://open.spotify.com/track/52gvlDnre9craz9...</td>\n",
       "      <td>52gvlDnre9craz9dKGObp8</td>\n",
       "      <td>3.679650</td>\n",
       "    </tr>\n",
       "    <tr>\n",
       "      <th>6</th>\n",
       "      <td>Apocalypse</td>\n",
       "      <td>Cigarettes After Sex</td>\n",
       "      <td>Cigarettes After Sex</td>\n",
       "      <td>2017-06-09</td>\n",
       "      <td>73</td>\n",
       "      <td>https://open.spotify.com/track/0yc6Gst2xkRu0eM...</td>\n",
       "      <td>0yc6Gst2xkRu0eMLeRMGCX</td>\n",
       "      <td>4.843600</td>\n",
       "    </tr>\n",
       "    <tr>\n",
       "      <th>7</th>\n",
       "      <td>Good For You</td>\n",
       "      <td>Selena Gomez</td>\n",
       "      <td>Revival (Deluxe)</td>\n",
       "      <td>2015-10-09</td>\n",
       "      <td>80</td>\n",
       "      <td>https://open.spotify.com/track/5xdVqHtFS0eLuNp...</td>\n",
       "      <td>5xdVqHtFS0eLuNp4Z8Wbpa</td>\n",
       "      <td>3.688000</td>\n",
       "    </tr>\n",
       "    <tr>\n",
       "      <th>8</th>\n",
       "      <td>Baby</td>\n",
       "      <td>Justin Bieber</td>\n",
       "      <td>My World 2.0</td>\n",
       "      <td>2010-01-01</td>\n",
       "      <td>84</td>\n",
       "      <td>https://open.spotify.com/track/6epn3r7S14KUqlR...</td>\n",
       "      <td>6epn3r7S14KUqlReYr77hA</td>\n",
       "      <td>3.570667</td>\n",
       "    </tr>\n",
       "    <tr>\n",
       "      <th>9</th>\n",
       "      <td>There's Nothing Holdin' Me Back</td>\n",
       "      <td>Shawn Mendes</td>\n",
       "      <td>Illuminate (Deluxe)</td>\n",
       "      <td>2017-04-20</td>\n",
       "      <td>88</td>\n",
       "      <td>https://open.spotify.com/track/7JJmb5XwzOO8jgp...</td>\n",
       "      <td>7JJmb5XwzOO8jgpou264Ml</td>\n",
       "      <td>3.324000</td>\n",
       "    </tr>\n",
       "  </tbody>\n",
       "</table>\n",
       "</div>"
      ],
      "text/plain": [
       "                     Nome_Da_Faixa               Artista  \\\n",
       "0         All The Stars (with SZA)        Kendrick Lamar   \n",
       "1                          Starboy            The Weeknd   \n",
       "2                         Señorita          Shawn Mendes   \n",
       "3                       Heat Waves         Glass Animals   \n",
       "4                  Let Me Love You              DJ Snake   \n",
       "5                         La La La           Naughty Boy   \n",
       "6                       Apocalypse  Cigarettes After Sex   \n",
       "7                     Good For You          Selena Gomez   \n",
       "8                             Baby         Justin Bieber   \n",
       "9  There's Nothing Holdin' Me Back          Shawn Mendes   \n",
       "\n",
       "                                               Álbum Data_De_Lançamento  \\\n",
       "0  Black Panther The Album Music From And Inspire...         2018-02-09   \n",
       "1                                            Starboy         2016-11-25   \n",
       "2                                           Señorita         2019-06-21   \n",
       "3                                          Dreamland         2020-08-07   \n",
       "4                                             Encore         2016-08-05   \n",
       "5                                           La La La         2013-01-01   \n",
       "6                               Cigarettes After Sex         2017-06-09   \n",
       "7                                   Revival (Deluxe)         2015-10-09   \n",
       "8                                       My World 2.0         2010-01-01   \n",
       "9                                Illuminate (Deluxe)         2017-04-20   \n",
       "\n",
       "   Popularidade                                        Spotify_URL  \\\n",
       "0            95  https://open.spotify.com/track/3GCdLUSnKSMJhs4...   \n",
       "1            90  https://open.spotify.com/track/7MXVkk9YMctZqd1...   \n",
       "2            80  https://open.spotify.com/track/0TK2YIli7K1leLo...   \n",
       "3            87  https://open.spotify.com/track/3USxtqRwSYz57Ew...   \n",
       "4            87  https://open.spotify.com/track/0lYBSQXN6rCTvUZ...   \n",
       "5            77  https://open.spotify.com/track/52gvlDnre9craz9...   \n",
       "6            73  https://open.spotify.com/track/0yc6Gst2xkRu0eM...   \n",
       "7            80  https://open.spotify.com/track/5xdVqHtFS0eLuNp...   \n",
       "8            84  https://open.spotify.com/track/6epn3r7S14KUqlR...   \n",
       "9            88  https://open.spotify.com/track/7JJmb5XwzOO8jgp...   \n",
       "\n",
       "                       ID  Duração_Mínima  \n",
       "0  3GCdLUSnKSMJhs4Tj6CV3s        3.869767  \n",
       "1  7MXVkk9YMctZqd1Srtv4MB        3.840883  \n",
       "2  0TK2YIli7K1leLovkQiNik        3.182667  \n",
       "3  3USxtqRwSYz57Ewm6wWRMp        3.980083  \n",
       "4  0lYBSQXN6rCTvUZvg9S0lU        3.432433  \n",
       "5  52gvlDnre9craz9dKGObp8        3.679650  \n",
       "6  0yc6Gst2xkRu0eMLeRMGCX        4.843600  \n",
       "7  5xdVqHtFS0eLuNp4Z8Wbpa        3.688000  \n",
       "8  6epn3r7S14KUqlReYr77hA        3.570667  \n",
       "9  7JJmb5XwzOO8jgpou264Ml        3.324000  "
      ]
     },
     "execution_count": 9,
     "metadata": {},
     "output_type": "execute_result"
    }
   ],
   "source": [
    "df.head(10)"
   ]
  },
  {
   "cell_type": "code",
   "execution_count": null,
   "id": "1a3da71e",
   "metadata": {},
   "outputs": [],
   "source": [
    "# Funcao para trocar o nome das colunas deixando as em portugues&logica\n",
    "\n",
    "df = df.rename(columns={'track_name': 'Nome_Da_Faixa', 'artist': 'Artista', 'album':'Álbum', \n",
    "                        'release_date':'Data_De_Lançamento', 'popularity':'Popularidade', 'spotify_url':'Spotify_URL',\n",
    "                        'id':'ID', 'duration_min':'Duração_Mínima'})"
   ]
  },
  {
   "cell_type": "code",
   "execution_count": null,
   "id": "47d938dd",
   "metadata": {},
   "outputs": [
    {
     "name": "stdout",
     "output_type": "stream",
     "text": [
      "Total de registro no dataset original: 1000\n"
     ]
    }
   ],
   "source": [
    "# Total de registros\n",
    "\n",
    "print(f'Total de registro no dataset original: {len(df)}')"
   ]
  },
  {
   "cell_type": "code",
   "execution_count": 11,
   "id": "c1a23616",
   "metadata": {},
   "outputs": [],
   "source": [
    "# 1 - Amostra Aleatoria\n",
    "\n",
    "df_amostra1 = df.sample(n=100, random_state=1)\n",
    "\n",
    "# n = indica a quantidade de linhas que desejamos\n",
    "# random_state = é um gerador de números aleatórios"
   ]
  },
  {
   "cell_type": "code",
   "execution_count": 14,
   "id": "7c7ada77",
   "metadata": {},
   "outputs": [],
   "source": [
    "# 2 - Amostra Aleatoria\n",
    "\n",
    "df_amostra2 = df.sample(n=100, random_state=2)"
   ]
  },
  {
   "cell_type": "code",
   "execution_count": 15,
   "id": "e7f872ed",
   "metadata": {},
   "outputs": [
    {
     "data": {
      "text/plain": [
       "Nome_Da_Faixa         0\n",
       "Artista               0\n",
       "Álbum                 0\n",
       "Data_De_Lançamento    0\n",
       "Popularidade          0\n",
       "Spotify_URL           0\n",
       "ID                    0\n",
       "Duração_Mínima        0\n",
       "dtype: int64"
      ]
     },
     "execution_count": 15,
     "metadata": {},
     "output_type": "execute_result"
    }
   ],
   "source": [
    "# Verificar se ha alguma colunas nula\n",
    "\n",
    "df.isnull().sum()"
   ]
  },
  {
   "cell_type": "code",
   "execution_count": 17,
   "id": "2a5ea4cf",
   "metadata": {},
   "outputs": [
    {
     "data": {
      "text/plain": [
       "np.False_"
      ]
     },
     "execution_count": 17,
     "metadata": {},
     "output_type": "execute_result"
    }
   ],
   "source": [
    "# Verifica se ha alguma linha duplicada\n",
    "\n",
    "df.duplicated().any()"
   ]
  },
  {
   "cell_type": "code",
   "execution_count": 38,
   "id": "ea26230e",
   "metadata": {},
   "outputs": [],
   "source": [
    "# Agrupamento de Artistas e Popularidade\n",
    "\n",
    "artista_popularidade = df.groupby(['Artista', 'Popularidade']).size().reset_index(name='Ordem').sort_values('Popularidade', ascending=False)\n",
    "\n",
    "#size() = numero de ocorrencias no grupo\n",
    "#sort_values = ordenar do mais popular para o menos"
   ]
  },
  {
   "cell_type": "code",
   "execution_count": 36,
   "id": "b490213d",
   "metadata": {},
   "outputs": [
    {
     "name": "stdout",
     "output_type": "stream",
     "text": [
      "            Artista  Popularidade  Ordem\n",
      "357   Gracie Abrams            97      1\n",
      "667            ROSÉ            96      1\n",
      "471  Kendrick Lamar            95      1\n",
      "842      The Weeknd            93      1\n",
      "72   Arctic Monkeys            93      1\n"
     ]
    }
   ],
   "source": [
    "# Impressao do Agrupamento de Artistas e Popularidade\n",
    "\n",
    "print(artista_popularidade.head())"
   ]
  },
  {
   "cell_type": "code",
   "execution_count": 39,
   "id": "cfacae26",
   "metadata": {},
   "outputs": [],
   "source": [
    "# Agrupamento de Artista + Popularidade + Álbum + Data_De_Lançamento\n",
    "\n",
    "artista_popular_album_data = df.groupby(['Artista', 'Popularidade', 'Álbum', 'Data_De_Lançamento']).size().reset_index(name='Ordem').sort_values(by='Popularidade', ascending=False)\n",
    "\n",
    "#size() = numero de ocorrencias no grupo\n",
    "#sort_values = ordenar do mais popular para o menos"
   ]
  },
  {
   "cell_type": "code",
   "execution_count": 40,
   "id": "aa4b4ba1",
   "metadata": {},
   "outputs": [
    {
     "name": "stdout",
     "output_type": "stream",
     "text": [
      "            Artista  Popularidade  \\\n",
      "385   Gracie Abrams            97   \n",
      "716            ROSÉ            96   \n",
      "503  Kendrick Lamar            95   \n",
      "910      The Weeknd            93   \n",
      "78   Arctic Monkeys            93   \n",
      "..              ...           ...   \n",
      "397        Harddope             0   \n",
      "398        Harddope             0   \n",
      "948       Xanemusic             0   \n",
      "949            Xizt             0   \n",
      "987   ✝✝✝ (Crosses)             0   \n",
      "\n",
      "                                                 Álbum Data_De_Lançamento  \\\n",
      "385                          The Secret of Us (Deluxe)         2024-10-18   \n",
      "716                                               APT.         2024-10-18   \n",
      "503  Black Panther The Album Music From And Inspire...         2018-02-09   \n",
      "910  The Idol Episode 4 (Music from the HBO Origina...         2023-06-23   \n",
      "78                                                  AM         2013-09-09   \n",
      "..                                                 ...                ...   \n",
      "397                                              10:35         2023-09-01   \n",
      "398                                 Baby Don't Hurt Me         2024-01-05   \n",
      "948                         Renegade (sped up) [Remix]         2023-01-18   \n",
      "949                          Sex, Drugs, Etc (Sped Up)         2022-09-12   \n",
      "987                                      ✝✝✝ (Crosses)         2014-02-11   \n",
      "\n",
      "     Ordem  \n",
      "385      1  \n",
      "716      1  \n",
      "503      1  \n",
      "910      1  \n",
      "78       1  \n",
      "..     ...  \n",
      "397      1  \n",
      "398      1  \n",
      "948      1  \n",
      "949      1  \n",
      "987      1  \n",
      "\n",
      "[988 rows x 5 columns]\n"
     ]
    }
   ],
   "source": [
    "# Impressao do Agrupamento de Artista + Popularidade + Álbum + Data_De_Lançamento\n",
    "\n",
    "print(artista_popular_album_data)"
   ]
  },
  {
   "cell_type": "code",
   "execution_count": 59,
   "id": "246d8b45",
   "metadata": {},
   "outputs": [],
   "source": [
    "# Filtro de duracao minima de musica\n",
    "\n",
    "musica_minima = df[df['Duração_Mínima'] < 2][['Nome_Da_Faixa', 'Duração_Mínima']].sort_values('Duração_Mínima', ascending=True)"
   ]
  },
  {
   "cell_type": "code",
   "execution_count": 60,
   "id": "49459949",
   "metadata": {},
   "outputs": [
    {
     "data": {
      "text/html": [
       "<div>\n",
       "<style scoped>\n",
       "    .dataframe tbody tr th:only-of-type {\n",
       "        vertical-align: middle;\n",
       "    }\n",
       "\n",
       "    .dataframe tbody tr th {\n",
       "        vertical-align: top;\n",
       "    }\n",
       "\n",
       "    .dataframe thead th {\n",
       "        text-align: right;\n",
       "    }\n",
       "</style>\n",
       "<table border=\"1\" class=\"dataframe\">\n",
       "  <thead>\n",
       "    <tr style=\"text-align: right;\">\n",
       "      <th></th>\n",
       "      <th>Nome_Da_Faixa</th>\n",
       "      <th>Duração_Mínima</th>\n",
       "    </tr>\n",
       "  </thead>\n",
       "  <tbody>\n",
       "    <tr>\n",
       "      <th>227</th>\n",
       "      <td>Bezos I</td>\n",
       "      <td>0.969150</td>\n",
       "    </tr>\n",
       "    <tr>\n",
       "      <th>221</th>\n",
       "      <td>SugarCrash!</td>\n",
       "      <td>1.334667</td>\n",
       "    </tr>\n",
       "    <tr>\n",
       "      <th>821</th>\n",
       "      <td>MONTAGEM TOMADA - Slowed</td>\n",
       "      <td>1.415017</td>\n",
       "    </tr>\n",
       "    <tr>\n",
       "      <th>728</th>\n",
       "      <td>nuts</td>\n",
       "      <td>1.422667</td>\n",
       "    </tr>\n",
       "    <tr>\n",
       "      <th>832</th>\n",
       "      <td>FERRARI FRIGHT</td>\n",
       "      <td>1.426583</td>\n",
       "    </tr>\n",
       "    <tr>\n",
       "      <th>892</th>\n",
       "      <td>Fairy</td>\n",
       "      <td>1.451850</td>\n",
       "    </tr>\n",
       "    <tr>\n",
       "      <th>691</th>\n",
       "      <td>SUICIDE YEAR</td>\n",
       "      <td>1.528850</td>\n",
       "    </tr>\n",
       "    <tr>\n",
       "      <th>734</th>\n",
       "      <td>Formula</td>\n",
       "      <td>1.531150</td>\n",
       "    </tr>\n",
       "    <tr>\n",
       "      <th>909</th>\n",
       "      <td>Kandy Krush</td>\n",
       "      <td>1.580717</td>\n",
       "    </tr>\n",
       "    <tr>\n",
       "      <th>406</th>\n",
       "      <td>Jiggle Jiggle (with Duke &amp; Jones)</td>\n",
       "      <td>1.620133</td>\n",
       "    </tr>\n",
       "  </tbody>\n",
       "</table>\n",
       "</div>"
      ],
      "text/plain": [
       "                         Nome_Da_Faixa  Duração_Mínima\n",
       "227                            Bezos I        0.969150\n",
       "221                        SugarCrash!        1.334667\n",
       "821           MONTAGEM TOMADA - Slowed        1.415017\n",
       "728                               nuts        1.422667\n",
       "832                     FERRARI FRIGHT        1.426583\n",
       "892                              Fairy        1.451850\n",
       "691                       SUICIDE YEAR        1.528850\n",
       "734                            Formula        1.531150\n",
       "909                        Kandy Krush        1.580717\n",
       "406  Jiggle Jiggle (with Duke & Jones)        1.620133"
      ]
     },
     "execution_count": 60,
     "metadata": {},
     "output_type": "execute_result"
    }
   ],
   "source": [
    "musica_minima.head(10)"
   ]
  }
 ],
 "metadata": {
  "kernelspec": {
   "display_name": "Python 3",
   "language": "python",
   "name": "python3"
  },
  "language_info": {
   "codemirror_mode": {
    "name": "ipython",
    "version": 3
   },
   "file_extension": ".py",
   "mimetype": "text/x-python",
   "name": "python",
   "nbconvert_exporter": "python",
   "pygments_lexer": "ipython3",
   "version": "3.13.3"
  }
 },
 "nbformat": 4,
 "nbformat_minor": 5
}
