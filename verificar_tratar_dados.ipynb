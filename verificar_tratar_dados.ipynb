{
 "cells": [
  {
   "cell_type": "code",
   "execution_count": 1,
   "id": "efd1c44c",
   "metadata": {},
   "outputs": [],
   "source": [
    "import pandas as pd"
   ]
  },
  {
   "cell_type": "code",
   "execution_count": 2,
   "id": "248318f6",
   "metadata": {},
   "outputs": [],
   "source": [
    "#Leitura do arquivo CSV\n",
    "df = pd.read_csv('./spotify_top_1000_tracks.csv')"
   ]
  },
  {
   "cell_type": "markdown",
   "metadata": {},
   "source": [
    "###  Renomeie as colunas do DataFrame, deixando todas padronizadas em português, com nomes sugestivos para o conteúdo da coluna."
   ]
  },
  {
   "cell_type": "code",
   "execution_count": 3,
   "id": "fb7f55d5",
   "metadata": {},
   "outputs": [],
   "source": [
    "# Renomeie as colunas do DataFrame, deixando todas padronizadas em português, com nomes sugestivos para o conteúdo da coluna.\n",
    "\n",
    "df = df.rename(columns={'track_name': 'Nome_Da_Faixa', 'artist': 'Artista', 'album':'Álbum', \n",
    "                        'release_date':'Data_De_Lançamento', 'popularity':'Popularidade', 'spotify_url':'Spotify_URL',\n",
    "                        'id':'ID', 'duration_min':'Duração_Mínima'})"
   ]
  },
  {
   "cell_type": "markdown",
   "id": "eb0ad758",
   "metadata": {},
   "source": [
    "### Verificando valores nulos"
   ]
  },
  {
   "cell_type": "code",
   "execution_count": 8,
   "id": "30a9f4bd",
   "metadata": {},
   "outputs": [
    {
     "data": {
      "text/plain": [
       "Nome_Da_Faixa          0\n",
       "Artista                0\n",
       "Álbum                  0\n",
       "Data_De_Lançamento    23\n",
       "Popularidade           0\n",
       "Spotify_URL            0\n",
       "ID                     0\n",
       "Duração_Mínima         0\n",
       "dtype: int64"
      ]
     },
     "execution_count": 8,
     "metadata": {},
     "output_type": "execute_result"
    }
   ],
   "source": [
    "# Identifique e trate os valores nulos ou ausentes (remoção ou substituição), justificando a decisão.\n",
    "\n",
    "df.isnull().sum()\n",
    "\n",
    "# Não há valores nulos"
   ]
  },
  {
   "cell_type": "markdown",
   "metadata": {},
   "source": [
    "### Remova registros duplicados, justifique a decisão\n"
   ]
  },
  {
   "cell_type": "code",
   "execution_count": 9,
   "id": "070d4cc5",
   "metadata": {},
   "outputs": [
    {
     "data": {
      "text/plain": [
       "np.int64(0)"
      ]
     },
     "execution_count": 9,
     "metadata": {},
     "output_type": "execute_result"
    }
   ],
   "source": [
    "# Remova registros duplicados, justifique a decisão\n",
    "\n",
    "df.duplicated().sum()\n",
    "\n",
    "# Não há registros duplicados"
   ]
  },
  {
   "cell_type": "code",
   "execution_count": 10,
   "id": "5b00651b",
   "metadata": {},
   "outputs": [
    {
     "data": {
      "text/plain": [
       "Nome_Da_Faixa                 object\n",
       "Artista                       object\n",
       "Álbum                         object\n",
       "Data_De_Lançamento    datetime64[ns]\n",
       "Popularidade                   int64\n",
       "Spotify_URL                   object\n",
       "ID                            object\n",
       "Duração_Mínima               float64\n",
       "dtype: object"
      ]
     },
     "execution_count": 10,
     "metadata": {},
     "output_type": "execute_result"
    }
   ],
   "source": [
    "# Corrija tipos de dados incorretos (ex.: datas, números, categorias, strings).\n",
    "\n",
    "df.dtypes\n"
   ]
  },
  {
   "cell_type": "code",
   "execution_count": 7,
   "id": "ca2e79f0",
   "metadata": {},
   "outputs": [
    {
     "data": {
      "text/plain": [
       "Nome_Da_Faixa                 object\n",
       "Artista                       object\n",
       "Álbum                         object\n",
       "Data_De_Lançamento    datetime64[ns]\n",
       "Popularidade                   int64\n",
       "Spotify_URL                   object\n",
       "ID                            object\n",
       "Duração_Mínima               float64\n",
       "dtype: object"
      ]
     },
     "execution_count": 7,
     "metadata": {},
     "output_type": "execute_result"
    }
   ],
   "source": [
    "# Corrija tipos de dados incorretos (Data_De_Lançamento)\n",
    "\n",
    "df['Data_De_Lançamento'] = pd.to_datetime(df['Data_De_Lançamento'], errors='coerce')\n",
    "\n",
    "df.dtypes"
   ]
  }
 ],
 "metadata": {
  "kernelspec": {
   "display_name": "Python 3",
   "language": "python",
   "name": "python3"
  },
  "language_info": {
   "codemirror_mode": {
    "name": "ipython",
    "version": 3
   },
   "file_extension": ".py",
   "mimetype": "text/x-python",
   "name": "python",
   "nbconvert_exporter": "python",
   "pygments_lexer": "ipython3",
   "version": "3.11.0"
  }
 },
 "nbformat": 4,
 "nbformat_minor": 5
}
